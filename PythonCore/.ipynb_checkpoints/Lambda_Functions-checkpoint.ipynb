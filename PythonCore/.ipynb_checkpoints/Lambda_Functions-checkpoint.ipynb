{
 "cells": [
  {
   "cell_type": "code",
   "execution_count": 1,
   "id": "1daf7488",
   "metadata": {},
   "outputs": [],
   "source": [
    "# Lambda Functions\n"
   ]
  },
  {
   "cell_type": "code",
   "execution_count": 2,
   "id": "c86c0b78",
   "metadata": {},
   "outputs": [],
   "source": [
    "#anonymous function\n",
    "#a functions with no name"
   ]
  },
  {
   "cell_type": "code",
   "execution_count": 3,
   "id": "38990bb2",
   "metadata": {},
   "outputs": [],
   "source": [
    "def addition(a,b):\n",
    "    return a+b"
   ]
  },
  {
   "cell_type": "code",
   "execution_count": 5,
   "id": "95a5a6e3",
   "metadata": {},
   "outputs": [
    {
     "data": {
      "text/plain": [
       "26755"
      ]
     },
     "execution_count": 5,
     "metadata": {},
     "output_type": "execute_result"
    }
   ],
   "source": [
    "addition(23323,3432)"
   ]
  },
  {
   "cell_type": "code",
   "execution_count": 6,
   "id": "5487f87c",
   "metadata": {},
   "outputs": [
    {
     "data": {
      "text/plain": [
       "<function __main__.<lambda>(a, b)>"
      ]
     },
     "execution_count": 6,
     "metadata": {},
     "output_type": "execute_result"
    }
   ],
   "source": [
    "addition=lambda a,b:a+b"
   ]
  },
  {
   "cell_type": "code",
   "execution_count": null,
   "id": "fc9db247",
   "metadata": {},
   "outputs": [],
   "source": [
    "addition"
   ]
  }
 ],
 "metadata": {
  "kernelspec": {
   "display_name": "Python 3 (ipykernel)",
   "language": "python",
   "name": "python3"
  },
  "language_info": {
   "codemirror_mode": {
    "name": "ipython",
    "version": 3
   },
   "file_extension": ".py",
   "mimetype": "text/x-python",
   "name": "python",
   "nbconvert_exporter": "python",
   "pygments_lexer": "ipython3",
   "version": "3.11.5"
  }
 },
 "nbformat": 4,
 "nbformat_minor": 5
}
