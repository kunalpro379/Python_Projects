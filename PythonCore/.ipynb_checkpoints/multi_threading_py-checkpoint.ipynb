{
 "cells": [
  {
   "cell_type": "code",
   "execution_count": 1,
   "id": "3bbf952d",
   "metadata": {},
   "outputs": [],
   "source": [
    "import threading \n",
    "import time \n"
   ]
  },
  {
   "cell_type": "code",
   "execution_count": null,
   "id": "934cca7a",
   "metadata": {},
   "outputs": [
    {
     "name": "stdout",
     "output_type": "stream",
     "text": [
      "Thread-11 (Print_nos) 0\n",
      "Thread-12 (Print_letters) a\n",
      "Thread-11 (Print_nos) 1\n",
      "Thread-12 (Print_letters) b\n",
      "Thread-11 (Print_nos) 2\n",
      "Thread-12 (Print_letters) c\n",
      "Thread-12 (Print_letters)Thread-11 (Print_nos) 3\n",
      " d\n",
      "Thread-11 (Print_nos) 4\n",
      "Thread-12 (Print_letters) e\n"
     ]
    }
   ],
   "source": [
    "def Print_nos():\n",
    "    for i in range(5):\n",
    "        print(threading.current_thread().name, i)\n",
    "        time.sleep(2)\n",
    "def Print_letters():\n",
    "    for letter in ['a','b','c','d','e','f','g']:\n",
    "        print(threading.current_thread().name,letter)\n",
    "        time.sleep(1)\n",
    "thread1=threading.Thread(target=Print_nos)\n",
    "thread2=threading.Thread(target=Print_letters)\n",
    "\n",
    "thread1.start()\n",
    "thread2.start()\n",
    "\n",
    "thread1.join()\n",
    "thread2.join()\n",
    "print(\"Both threads finished\")"
   ]
  },
  {
   "cell_type": "code",
   "execution_count": null,
   "id": "c7110bfb",
   "metadata": {},
   "outputs": [],
   "source": []
  }
 ],
 "metadata": {
  "kernelspec": {
   "display_name": "Python 3 (ipykernel)",
   "language": "python",
   "name": "python3"
  },
  "language_info": {
   "codemirror_mode": {
    "name": "ipython",
    "version": 3
   },
   "file_extension": ".py",
   "mimetype": "text/x-python",
   "name": "python",
   "nbconvert_exporter": "python",
   "pygments_lexer": "ipython3",
   "version": "3.11.5"
  }
 },
 "nbformat": 4,
 "nbformat_minor": 5
}
