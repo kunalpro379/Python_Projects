{
 "cells": [
  {
   "cell_type": "code",
   "execution_count": 4,
   "id": "25feacd0",
   "metadata": {},
   "outputs": [
    {
     "name": "stdout",
     "output_type": "stream",
     "text": [
      "some problem may have occurred\n",
      "name 'b' is not defined\n"
     ]
    }
   ],
   "source": [
    "try:\n",
    "    #code bloc where exception can occur\n",
    "    a=b\n",
    "\n",
    "except Exception as ex:\n",
    "    print(\"some problem may have occurred\")\n",
    "    print(ex) #ex alias"
   ]
  },
  {
   "cell_type": "code",
   "execution_count": 5,
   "id": "8dadb371",
   "metadata": {},
   "outputs": [
    {
     "ename": "NameError",
     "evalue": "name 'b' is not defined",
     "output_type": "error",
     "traceback": [
      "\u001b[1;31m---------------------------------------------------------------------------\u001b[0m",
      "\u001b[1;31mNameError\u001b[0m                                 Traceback (most recent call last)",
      "Cell \u001b[1;32mIn[5], line 1\u001b[0m\n\u001b[1;32m----> 1\u001b[0m a\u001b[38;5;241m=\u001b[39mb\n",
      "\u001b[1;31mNameError\u001b[0m: name 'b' is not defined"
     ]
    }
   ],
   "source": [
    "a=b"
   ]
  },
  {
   "cell_type": "code",
   "execution_count": 7,
   "id": "b223bbd1",
   "metadata": {},
   "outputs": [
    {
     "name": "stdout",
     "output_type": "stream",
     "text": [
      "the user  have not defined the variable\n"
     ]
    }
   ],
   "source": [
    "try:\n",
    "    #code bloc where exception can occur\n",
    "    a=b\n",
    "    a=1\n",
    "    b=\"s\"\n",
    "except NameError as ex:\n",
    "    print(\"the user  have not defined the variable\")\n",
    "except Exception as ex:\n",
    "    print(\"some problem may have occurred\")\n",
    "    print(ex) #ex alias"
   ]
  },
  {
   "cell_type": "code",
   "execution_count": 8,
   "id": "bd8b8807",
   "metadata": {},
   "outputs": [
    {
     "ename": "TypeError",
     "evalue": "unsupported operand type(s) for +: 'int' and 'str'",
     "output_type": "error",
     "traceback": [
      "\u001b[1;31m---------------------------------------------------------------------------\u001b[0m",
      "\u001b[1;31mTypeError\u001b[0m                                 Traceback (most recent call last)",
      "Cell \u001b[1;32mIn[8], line 3\u001b[0m\n\u001b[0;32m      1\u001b[0m a\u001b[38;5;241m=\u001b[39m\u001b[38;5;241m1\u001b[39m\n\u001b[0;32m      2\u001b[0m b\u001b[38;5;241m=\u001b[39m\u001b[38;5;124m\"\u001b[39m\u001b[38;5;124ms\u001b[39m\u001b[38;5;124m\"\u001b[39m\n\u001b[1;32m----> 3\u001b[0m c\u001b[38;5;241m=\u001b[39ma\u001b[38;5;241m+\u001b[39mb\n",
      "\u001b[1;31mTypeError\u001b[0m: unsupported operand type(s) for +: 'int' and 'str'"
     ]
    }
   ],
   "source": [
    "a=1\n",
    "b=\"s\"\n",
    "c=a+b\n"
   ]
  },
  {
   "cell_type": "code",
   "execution_count": 10,
   "id": "5428dd9c",
   "metadata": {},
   "outputs": [
    {
     "name": "stdout",
     "output_type": "stream",
     "text": [
      "try to make data type similar\n"
     ]
    }
   ],
   "source": [
    "try:\n",
    "    #code bloc where exception can occur\n",
    "    a=b\n",
    "    a=1\n",
    "    b=\"s\"\n",
    "    c=a+b\n",
    "except TypeError as Tp:\n",
    "    print(\"try to make data type similar\")\n",
    "except NameError as ex:\n",
    "    print(\"the user  have not defined the variable\")\n",
    "except Exception as ex:\n",
    "    print(\"some problem may have occurred\")\n",
    "    print(ex) #ex alias"
   ]
  },
  {
   "cell_type": "code",
   "execution_count": 11,
   "id": "0ef25723",
   "metadata": {},
   "outputs": [
    {
     "name": "stdout",
     "output_type": "stream",
     "text": [
      "Enter the number 1100\n",
      "Enter the number 20\n",
      "some problem may have occurred\n",
      "division by zero\n"
     ]
    }
   ],
   "source": [
    "try:\n",
    "    a=int(input('Enter the number 1'))\n",
    "    b=int(input('Enter the number 2'))\n",
    "    c=a/b\n",
    "    d=a*b\n",
    "    e=a+b\n",
    "    print(c)\n",
    "    print(d)\n",
    "    print(e)\n",
    "except TypeError as Tp:\n",
    "    print(\"try to make data type similar\")\n",
    "except NameError as ex:\n",
    "    print(\"the user  have not defined the variable\")\n",
    "except Exception as ex:\n",
    "    print(\"some problem may have occurred\")\n",
    "    print(ex) #ex alias"
   ]
  },
  {
   "cell_type": "code",
   "execution_count": 15,
   "id": "05d76e03",
   "metadata": {},
   "outputs": [
    {
     "name": "stdout",
     "output_type": "stream",
     "text": [
      "Enter the number 1k\n",
      "some problem may have occurred\n",
      "invalid literal for int() with base 10: 'k'\n"
     ]
    }
   ],
   "source": [
    "try:\n",
    "    a=int(input('Enter the number 1'))\n",
    "    b=int(input('Enter the number 2'))\n",
    "    c=a/b\n",
    "    d=a*b\n",
    "    e=a+b\n",
    "    print(c)\n",
    "    print(d)\n",
    "    print(e)\n",
    "except TypeError as Tp:\n",
    "    print(\"try to make data type similar\")\n",
    "except NameError as ex:\n",
    "    print(\"the user  have not defined the variable\")\n",
    "except Exception as ex:\n",
    "    print(\"some problem may have occurred\")\n",
    "    print(ex) #ex alias\n",
    "except ZeroDivisionError:\n",
    "    print(\"Zero Division Error\")\n",
    "else:\n",
    "    print(c)\n",
    "    print(d)\n",
    "    print(e)\n"
   ]
  },
  {
   "cell_type": "code",
   "execution_count": 17,
   "id": "aea734d7",
   "metadata": {},
   "outputs": [
    {
     "name": "stdout",
     "output_type": "stream",
     "text": [
      "Enter the number 112221\n",
      "Enter the number 21222111222\n",
      "9.999908175296995e-06\n",
      "14935421244062\n",
      "1222123443\n"
     ]
    }
   ],
   "source": [
    "try:\n",
    "    a=int(input('Enter the number 1'))\n",
    "    b=int(input('Enter the number 2'))\n",
    "    c=a/b\n",
    "    d=a*b\n",
    "    e=a+b\n",
    "\n",
    "except TypeError as Tp:\n",
    "    print(\"try to make data type similar\")\n",
    "except NameError as ex:\n",
    "    print(\"the user  have not defined the variable\")\n",
    "except Exception as ex:\n",
    "    print(\"some problem may have occurred\")\n",
    "    print(ex) #ex alias\n",
    "except ZeroDivisionError:\n",
    "    print(\"Zero Division Error\")\n",
    "else:\n",
    "    print(c)\n",
    "    print(d)\n",
    "    print(e)\n"
   ]
  },
  {
   "cell_type": "code",
   "execution_count": 18,
   "id": "7cc33d49",
   "metadata": {},
   "outputs": [],
   "source": [
    "#try else and finally"
   ]
  },
  {
   "cell_type": "code",
   "execution_count": 22,
   "id": "bbfaa5cc",
   "metadata": {},
   "outputs": [
    {
     "name": "stdout",
     "output_type": "stream",
     "text": [
      "Enter the number 112\n",
      "Enter the number 20\n",
      "some problem may have occurred\n",
      "division by zero\n",
      "Execution is done\n"
     ]
    }
   ],
   "source": [
    "try:\n",
    "    a=int(input('Enter the number 1'))\n",
    "    b=int(input('Enter the number 2'))\n",
    "    c=a/b\n",
    "    d=a*b\n",
    "    e=a+b\n",
    "    c=a+b\n",
    "    print(c)\n",
    "    print(d)\n",
    "    print(e)\n",
    "except TypeError as Tp:\n",
    "    print(\"try to make data type similar\")\n",
    "except NameError as ex:\n",
    "    print(\"the user  have not defined the variable\")\n",
    "except Exception as ex:\n",
    "    print(\"some problem may have occurred\")\n",
    "    print(ex) #ex alias\n",
    "except ZeroDivisionError:\n",
    "    print(\"Zero Division Error\")\n",
    "else:\n",
    "    print(c)\n",
    "    print(d)\n",
    "    print(e)\n",
    "finally:\n",
    "    print(\"Execution is done\")# this operation is allways done \n",
    "#example when conncetion with database is established even if exception is \n",
    "#occured we can close the database in finally"
   ]
  },
  {
   "cell_type": "code",
   "execution_count": 27,
   "id": "18e27f01",
   "metadata": {},
   "outputs": [
    {
     "name": "stdout",
     "output_type": "stream",
     "text": [
      "Enter the year of birth : 1988\n",
      "The year age is not valid\n"
     ]
    }
   ],
   "source": [
    "class Error(Exception):\n",
    "    pass\n",
    "class dobException(Error):\n",
    "    pass\n",
    "\n",
    "year=int(input(\"Enter the year of birth : \"))\n",
    "age=2020-year\n",
    "try:\n",
    "    if age<=30 & age>=20:\n",
    "        pass\n",
    "    else:\n",
    "        raise dobException\n",
    "except dobException:\n",
    "    print(\"The year age is not valid\")\n",
    "    "
   ]
  },
  {
   "cell_type": "code",
   "execution_count": null,
   "id": "3d664498",
   "metadata": {},
   "outputs": [],
   "source": []
  },
  {
   "cell_type": "code",
   "execution_count": null,
   "id": "1cd00b08",
   "metadata": {},
   "outputs": [],
   "source": []
  }
 ],
 "metadata": {
  "kernelspec": {
   "display_name": "Python 3 (ipykernel)",
   "language": "python",
   "name": "python3"
  },
  "language_info": {
   "codemirror_mode": {
    "name": "ipython",
    "version": 3
   },
   "file_extension": ".py",
   "mimetype": "text/x-python",
   "name": "python",
   "nbconvert_exporter": "python",
   "pygments_lexer": "ipython3",
   "version": "3.11.5"
  }
 },
 "nbformat": 4,
 "nbformat_minor": 5
}
