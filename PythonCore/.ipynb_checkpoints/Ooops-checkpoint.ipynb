{
 "cells": [
  {
   "cell_type": "code",
   "execution_count": 13,
   "id": "495abb4b",
   "metadata": {},
   "outputs": [],
   "source": [
    "class Car:\n",
    "    pass\n",
    "\n",
    "car1=Car()\n",
    "car2=Car()"
   ]
  },
  {
   "cell_type": "code",
   "execution_count": 14,
   "id": "197c24ae",
   "metadata": {},
   "outputs": [
    {
     "data": {
      "text/plain": [
       "<__main__.Car at 0x1fe08461050>"
      ]
     },
     "execution_count": 14,
     "metadata": {},
     "output_type": "execute_result"
    }
   ],
   "source": [
    "car1\n",
    "car2"
   ]
  },
  {
   "cell_type": "code",
   "execution_count": 19,
   "id": "d82f3b2a",
   "metadata": {},
   "outputs": [
    {
     "data": {
      "text/plain": [
       "['__class__',\n",
       " '__delattr__',\n",
       " '__dict__',\n",
       " '__dir__',\n",
       " '__doc__',\n",
       " '__eq__',\n",
       " '__format__',\n",
       " '__ge__',\n",
       " '__getattribute__',\n",
       " '__getstate__',\n",
       " '__gt__',\n",
       " '__hash__',\n",
       " '__init__',\n",
       " '__init_subclass__',\n",
       " '__le__',\n",
       " '__lt__',\n",
       " '__module__',\n",
       " '__ne__',\n",
       " '__new__',\n",
       " '__reduce__',\n",
       " '__reduce_ex__',\n",
       " '__repr__',\n",
       " '__setattr__',\n",
       " '__sizeof__',\n",
       " '__str__',\n",
       " '__subclasshook__',\n",
       " '__weakref__',\n",
       " 'doors',\n",
       " 'windows']"
      ]
     },
     "execution_count": 19,
     "metadata": {},
     "output_type": "execute_result"
    }
   ],
   "source": [
    "dir(car1)"
   ]
  },
  {
   "cell_type": "code",
   "execution_count": 15,
   "id": "f5956000",
   "metadata": {},
   "outputs": [],
   "source": [
    "car1.windows=4\n",
    "car1.doors=3\n",
    "car2.windows=5"
   ]
  },
  {
   "cell_type": "code",
   "execution_count": 16,
   "id": "d3af7725",
   "metadata": {},
   "outputs": [
    {
     "name": "stdout",
     "output_type": "stream",
     "text": [
      "4\n"
     ]
    }
   ],
   "source": [
    "print(car1.windows)\n"
   ]
  },
  {
   "cell_type": "code",
   "execution_count": 17,
   "id": "81be7af1",
   "metadata": {},
   "outputs": [
    {
     "name": "stdout",
     "output_type": "stream",
     "text": [
      "5\n"
     ]
    }
   ],
   "source": [
    "print(car2.windows)"
   ]
  },
  {
   "cell_type": "code",
   "execution_count": null,
   "id": "4536ba41",
   "metadata": {},
   "outputs": [],
   "source": [
    "#this was bad practice\n"
   ]
  },
  {
   "cell_type": "code",
   "execution_count": 33,
   "id": "bfe6e746",
   "metadata": {},
   "outputs": [],
   "source": [
    "class Car:\n",
    "    def __init__(self, window,door,enginetype):#self->for this object\n",
    "        self.windows=window\n",
    "        self.doors=door\n",
    "        self.engineType=enginetype\n",
    "        \n",
    "    def type_engine(self):\n",
    "        return \"This is {} car\".format(self.engineType)"
   ]
  },
  {
   "cell_type": "code",
   "execution_count": 34,
   "id": "29e408e2",
   "metadata": {},
   "outputs": [],
   "source": [
    "car1=Car(4,5,\"petrol\")\n",
    "car2=Car(3,9,\"deseal\")\n",
    "car3=Car(4,15,\"water\")"
   ]
  },
  {
   "cell_type": "code",
   "execution_count": 37,
   "id": "896bb63c",
   "metadata": {},
   "outputs": [
    {
     "name": "stdout",
     "output_type": "stream",
     "text": [
      "4\n",
      "5\n",
      "petrol\n"
     ]
    },
    {
     "data": {
      "text/plain": [
       "'This is petrol car'"
      ]
     },
     "execution_count": 37,
     "metadata": {},
     "output_type": "execute_result"
    }
   ],
   "source": [
    "print(car1.windows)\n",
    "print(car1.doors)\n",
    "print(car1.engineType)\n",
    "car1.type_engine()#self is a refernece"
   ]
  },
  {
   "cell_type": "code",
   "execution_count": 38,
   "id": "1aade9c9",
   "metadata": {},
   "outputs": [
    {
     "name": "stdout",
     "output_type": "stream",
     "text": [
      "3\n",
      "9\n",
      "deseal\n"
     ]
    },
    {
     "data": {
      "text/plain": [
       "'This is deseal car'"
      ]
     },
     "execution_count": 38,
     "metadata": {},
     "output_type": "execute_result"
    }
   ],
   "source": [
    "print(car2.windows)\n",
    "print(car2.doors)\n",
    "print(car2.engineType)\n",
    "car2.type_engine()"
   ]
  },
  {
   "cell_type": "code",
   "execution_count": 39,
   "id": "0d37887e",
   "metadata": {},
   "outputs": [
    {
     "name": "stdout",
     "output_type": "stream",
     "text": [
      "4\n",
      "15\n",
      "water\n"
     ]
    },
    {
     "data": {
      "text/plain": [
       "'This is water car'"
      ]
     },
     "execution_count": 39,
     "metadata": {},
     "output_type": "execute_result"
    }
   ],
   "source": [
    "print(car3.windows)\n",
    "print(car3.doors)\n",
    "print(car3.engineType)\n",
    "car3.type_engine()"
   ]
  },
  {
   "cell_type": "code",
   "execution_count": null,
   "id": "c53585c2",
   "metadata": {},
   "outputs": [],
   "source": []
  },
  {
   "cell_type": "code",
   "execution_count": null,
   "id": "0c4c4f2f",
   "metadata": {},
   "outputs": [],
   "source": []
  }
 ],
 "metadata": {
  "kernelspec": {
   "display_name": "Python 3 (ipykernel)",
   "language": "python",
   "name": "python3"
  },
  "language_info": {
   "codemirror_mode": {
    "name": "ipython",
    "version": 3
   },
   "file_extension": ".py",
   "mimetype": "text/x-python",
   "name": "python",
   "nbconvert_exporter": "python",
   "pygments_lexer": "ipython3",
   "version": "3.11.5"
  }
 },
 "nbformat": 4,
 "nbformat_minor": 5
}
