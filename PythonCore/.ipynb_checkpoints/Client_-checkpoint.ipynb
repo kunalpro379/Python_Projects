{
 "cells": [
  {
   "cell_type": "code",
   "execution_count": 7,
   "id": "5ae4b869",
   "metadata": {},
   "outputs": [],
   "source": [
    "import socket\n",
    "client_socket=socket.socket(socket.AF_INET, socket.SOCK_STREAM)\n",
    "server_add=('localhost', 8080)\n"
   ]
  },
  {
   "cell_type": "code",
   "execution_count": 8,
   "id": "e613af70",
   "metadata": {},
   "outputs": [],
   "source": [
    "client_socket.connect(server_add)"
   ]
  },
  {
   "cell_type": "code",
   "execution_count": 9,
   "id": "77f0b2a4",
   "metadata": {},
   "outputs": [
    {
     "name": "stdout",
     "output_type": "stream",
     "text": [
      "type any messagehello server\n"
     ]
    },
    {
     "ename": "AttributeError",
     "evalue": "'str' object has no attribute 'endcode'",
     "output_type": "error",
     "traceback": [
      "\u001b[1;31m---------------------------------------------------------------------------\u001b[0m",
      "\u001b[1;31mAttributeError\u001b[0m                            Traceback (most recent call last)",
      "Cell \u001b[1;32mIn[9], line 2\u001b[0m\n\u001b[0;32m      1\u001b[0m message\u001b[38;5;241m=\u001b[39m\u001b[38;5;28minput\u001b[39m(\u001b[38;5;124m\"\u001b[39m\u001b[38;5;124mtype any message\u001b[39m\u001b[38;5;124m\"\u001b[39m)\n\u001b[1;32m----> 2\u001b[0m client_socket\u001b[38;5;241m.\u001b[39msendall(message\u001b[38;5;241m.\u001b[39mendcode())\n",
      "\u001b[1;31mAttributeError\u001b[0m: 'str' object has no attribute 'endcode'"
     ]
    }
   ],
   "source": [
    "message = input(\"Enter message: \")\n",
    "client_socket.sendall(message.encode())\n"
   ]
  },
  {
   "cell_type": "code",
   "execution_count": null,
   "id": "0e3fc964",
   "metadata": {},
   "outputs": [],
   "source": [
    "client_socket.close()"
   ]
  },
  {
   "cell_type": "code",
   "execution_count": null,
   "id": "1b0a7357",
   "metadata": {},
   "outputs": [],
   "source": []
  }
 ],
 "metadata": {
  "kernelspec": {
   "display_name": "Python 3 (ipykernel)",
   "language": "python",
   "name": "python3"
  },
  "language_info": {
   "codemirror_mode": {
    "name": "ipython",
    "version": 3
   },
   "file_extension": ".py",
   "mimetype": "text/x-python",
   "name": "python",
   "nbconvert_exporter": "python",
   "pygments_lexer": "ipython3",
   "version": "3.11.5"
  }
 },
 "nbformat": 4,
 "nbformat_minor": 5
}
