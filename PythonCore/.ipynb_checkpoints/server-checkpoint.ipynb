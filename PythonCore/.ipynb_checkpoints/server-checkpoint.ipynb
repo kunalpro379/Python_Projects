{
 "cells": [
  {
   "cell_type": "code",
   "execution_count": 11,
   "id": "8cdff5cc",
   "metadata": {},
   "outputs": [],
   "source": [
    "import socket \n",
    "server_socket=socket.socket(socket.AF_INET, socket.SOCK_STREAM)\n",
    "#socket object created  socket.AF_INET means address family ipv4 and socket.SOCK_STREAM specifying socket \n",
    "#type in this cse its TCP\n"
   ]
  },
  {
   "cell_type": "code",
   "execution_count": 12,
   "id": "a0c59d3d",
   "metadata": {},
   "outputs": [
    {
     "name": "stdout",
     "output_type": "stream",
     "text": [
      "Server is listening\n"
     ]
    }
   ],
   "source": [
    "server_add=('localhost', 8080)\n",
    "server_socket.bind(server_add)\n",
    "server_socket.listen(1)#listneing for incoming connection\n",
    "print(\"Server is listening\")"
   ]
  },
  {
   "cell_type": "code",
   "execution_count": 13,
   "id": "8b714248",
   "metadata": {},
   "outputs": [
    {
     "name": "stdout",
     "output_type": "stream",
     "text": [
      "connection extablished with ('127.0.0.1', 59968)\n"
     ]
    }
   ],
   "source": [
    "client_socket,client_add=server_socket.accept()\n",
    "print(f\"connection extablished with {client_add}\")"
   ]
  },
  {
   "cell_type": "code",
   "execution_count": 14,
   "id": "66465fbb",
   "metadata": {},
   "outputs": [
    {
     "ename": "TypeError",
     "evalue": "'socket' object is not callable",
     "output_type": "error",
     "traceback": [
      "\u001b[1;31m---------------------------------------------------------------------------\u001b[0m",
      "\u001b[1;31mTypeError\u001b[0m                                 Traceback (most recent call last)",
      "Cell \u001b[1;32mIn[14], line 2\u001b[0m\n\u001b[0;32m      1\u001b[0m \u001b[38;5;28;01mwhile\u001b[39;00m \u001b[38;5;28;01mTrue\u001b[39;00m:\n\u001b[1;32m----> 2\u001b[0m     data\u001b[38;5;241m=\u001b[39mclient_socket(\u001b[38;5;241m10000\u001b[39m)\n\u001b[0;32m      3\u001b[0m     \u001b[38;5;28;01mif\u001b[39;00m \u001b[38;5;129;01mnot\u001b[39;00m data:\n\u001b[0;32m      4\u001b[0m         \u001b[38;5;28;01mbreak\u001b[39;00m\n",
      "\u001b[1;31mTypeError\u001b[0m: 'socket' object is not callable"
     ]
    }
   ],
   "source": [
    "while True:\n",
    "    data = client_socket.recv(10000)\n",
    "    if not data:\n",
    "        break\n",
    "    print(f\"Received: {data.decode()}\")\n"
   ]
  },
  {
   "cell_type": "code",
   "execution_count": 15,
   "id": "82fbcbe4",
   "metadata": {},
   "outputs": [],
   "source": [
    "client_socket.close()\n",
    "server_socket.close()"
   ]
  },
  {
   "cell_type": "code",
   "execution_count": null,
   "id": "1e0b4866",
   "metadata": {},
   "outputs": [],
   "source": []
  },
  {
   "cell_type": "code",
   "execution_count": null,
   "id": "ec37fdb4",
   "metadata": {},
   "outputs": [],
   "source": []
  }
 ],
 "metadata": {
  "kernelspec": {
   "display_name": "Python 3 (ipykernel)",
   "language": "python",
   "name": "python3"
  },
  "language_info": {
   "codemirror_mode": {
    "name": "ipython",
    "version": 3
   },
   "file_extension": ".py",
   "mimetype": "text/x-python",
   "name": "python",
   "nbconvert_exporter": "python",
   "pygments_lexer": "ipython3",
   "version": "3.11.5"
  }
 },
 "nbformat": 4,
 "nbformat_minor": 5
}
