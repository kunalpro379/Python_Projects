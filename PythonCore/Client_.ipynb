{
 "cells": [
  {
   "cell_type": "code",
   "execution_count": 17,
   "id": "b0b653e6",
   "metadata": {},
   "outputs": [],
   "source": [
    "import socket\n",
    "client_socket=socket.socket(socket.AF_INET, socket.SOCK_STREAM)\n",
    "server_add=('localhost', 8080)\n"
   ]
  },
  {
   "cell_type": "code",
   "execution_count": 18,
   "id": "7e7614d3",
   "metadata": {},
   "outputs": [],
   "source": [
    "client_socket.connect(server_add)"
   ]
  },
  {
   "cell_type": "code",
   "execution_count": 19,
   "id": "927d6d8f",
   "metadata": {},
   "outputs": [
    {
     "name": "stdout",
     "output_type": "stream",
     "text": [
      "Enter message: hi server\n"
     ]
    }
   ],
   "source": [
    "message = input(\"Enter message: \")\n",
    "client_socket.sendall(message.encode())\n"
   ]
  },
  {
   "cell_type": "code",
   "execution_count": 20,
   "id": "c2a545c4",
   "metadata": {},
   "outputs": [],
   "source": [
    "client_socket.close()"
   ]
  },
  {
   "cell_type": "code",
   "execution_count": null,
   "id": "5dc65df3",
   "metadata": {},
   "outputs": [],
   "source": []
  }
 ],
 "metadata": {
  "kernelspec": {
   "display_name": "Python 3 (ipykernel)",
   "language": "python",
   "name": "python3"
  },
  "language_info": {
   "codemirror_mode": {
    "name": "ipython",
    "version": 3
   },
   "file_extension": ".py",
   "mimetype": "text/x-python",
   "name": "python",
   "nbconvert_exporter": "python",
   "pygments_lexer": "ipython3",
   "version": "3.11.5"
  }
 },
 "nbformat": 4,
 "nbformat_minor": 5
}
