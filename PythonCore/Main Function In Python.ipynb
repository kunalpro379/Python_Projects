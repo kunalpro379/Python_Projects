{
 "cells": [
  {
   "cell_type": "code",
   "execution_count": 1,
   "id": "93a3fcc3",
   "metadata": {},
   "outputs": [
    {
     "name": "stdout",
     "output_type": "stream",
     "text": [
      "__main__\n"
     ]
    }
   ],
   "source": [
    "print(__name__)"
   ]
  },
  {
   "cell_type": "code",
   "execution_count": 16,
   "id": "799f8912",
   "metadata": {},
   "outputs": [
    {
     "name": "stdout",
     "output_type": "stream",
     "text": [
      "This is the main function\n"
     ]
    }
   ],
   "source": [
    "def main():\n",
    "    print(\"This is the main function\")\n",
    "\n",
    "if __name__==\"__main__\":\n",
    "    main()"
   ]
  },
  {
   "cell_type": "code",
   "execution_count": 17,
   "id": "111c9a35",
   "metadata": {},
   "outputs": [],
   "source": [
    "#best practices"
   ]
  },
  {
   "cell_type": "code",
   "execution_count": 18,
   "id": "56d73739",
   "metadata": {},
   "outputs": [
    {
     "name": "stdout",
     "output_type": "stream",
     "text": [
      "this is me\n"
     ]
    }
   ],
   "source": [
    "print(\"this is me\")\n",
    "def process_ex(data):\n",
    "    print(data,\"Beginning\")\n",
    "    print(data,\"data is loading...\")\n",
    "    print(data,\"finished\")\n",
    "    \n"
   ]
  },
  {
   "cell_type": "code",
   "execution_count": 19,
   "id": "a2bd0324",
   "metadata": {},
   "outputs": [
    {
     "name": "stdout",
     "output_type": "stream",
     "text": [
      "data Beginning\n",
      "data data is loading...\n",
      "data finished\n"
     ]
    }
   ],
   "source": [
    "process_ex(\"data\")"
   ]
  },
  {
   "cell_type": "code",
   "execution_count": 20,
   "id": "209b6f3e",
   "metadata": {},
   "outputs": [
    {
     "name": "stdout",
     "output_type": "stream",
     "text": [
      "hello Beginning\n",
      "hello data is loading...\n",
      "hello finished\n"
     ]
    }
   ],
   "source": [
    "if __name__==\"__main__\":\n",
    "    process_ex(\"hello\")"
   ]
  },
  {
   "cell_type": "code",
   "execution_count": 22,
   "id": "7564210e",
   "metadata": {},
   "outputs": [
    {
     "name": "stdout",
     "output_type": "stream",
     "text": [
      "Sample data Beginning\n",
      "Sample data data is loading...\n",
      "Sample data finished\n",
      "foo Beginning\n",
      "foo data is loading...\n",
      "foo finished\n"
     ]
    }
   ],
   "source": [
    "def main():\n",
    "    data=\"Sample data\"\n",
    "    process_ex(data)\n",
    "def foo():\n",
    "    process_ex(\"foo\")\n",
    "if __name__==\"__main__\":\n",
    "    main()\n",
    "    foo()"
   ]
  },
  {
   "cell_type": "code",
   "execution_count": null,
   "id": "c602a690",
   "metadata": {},
   "outputs": [],
   "source": []
  }
 ],
 "metadata": {
  "kernelspec": {
   "display_name": "Python 3 (ipykernel)",
   "language": "python",
   "name": "python3"
  },
  "language_info": {
   "codemirror_mode": {
    "name": "ipython",
    "version": 3
   },
   "file_extension": ".py",
   "mimetype": "text/x-python",
   "name": "python",
   "nbconvert_exporter": "python",
   "pygments_lexer": "ipython3",
   "version": "3.11.5"
  }
 },
 "nbformat": 4,
 "nbformat_minor": 5
}
