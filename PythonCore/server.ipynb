{
 "cells": [
  {
   "cell_type": "code",
   "execution_count": 16,
   "id": "ed08ba0c",
   "metadata": {},
   "outputs": [],
   "source": [
    "import socket \n",
    "server_socket=socket.socket(socket.AF_INET, socket.SOCK_STREAM)\n",
    "#socket object created  socket.AF_INET means address family ipv4 and socket.SOCK_STREAM specifying socket \n",
    "#type in this cse its TCP\n"
   ]
  },
  {
   "cell_type": "code",
   "execution_count": 17,
   "id": "a85d258f",
   "metadata": {},
   "outputs": [
    {
     "name": "stdout",
     "output_type": "stream",
     "text": [
      "Server is listening\n"
     ]
    }
   ],
   "source": [
    "server_add=('localhost', 8080)\n",
    "server_socket.bind(server_add)\n",
    "server_socket.listen(1)#listneing for incoming connection\n",
    "print(\"Server is listening\")"
   ]
  },
  {
   "cell_type": "code",
   "execution_count": 18,
   "id": "5aa8c180",
   "metadata": {},
   "outputs": [
    {
     "name": "stdout",
     "output_type": "stream",
     "text": [
      "connection extablished with ('127.0.0.1', 60046)\n"
     ]
    }
   ],
   "source": [
    "client_socket,client_add=server_socket.accept()\n",
    "print(f\"connection extablished with {client_add}\")"
   ]
  },
  {
   "cell_type": "code",
   "execution_count": 19,
   "id": "755a979f",
   "metadata": {},
   "outputs": [
    {
     "name": "stdout",
     "output_type": "stream",
     "text": [
      "Received: hi server\n"
     ]
    }
   ],
   "source": [
    "while True:\n",
    "    data = client_socket.recv(10000)\n",
    "    if not data:\n",
    "        break\n",
    "    print(f\"Received: {data.decode()}\")\n"
   ]
  },
  {
   "cell_type": "code",
   "execution_count": 20,
   "id": "19732f33",
   "metadata": {},
   "outputs": [],
   "source": [
    "client_socket.close()\n",
    "server_socket.close()"
   ]
  },
  {
   "cell_type": "code",
   "execution_count": null,
   "id": "64c318fe",
   "metadata": {},
   "outputs": [],
   "source": []
  },
  {
   "cell_type": "code",
   "execution_count": null,
   "id": "1c1e7e58",
   "metadata": {},
   "outputs": [],
   "source": []
  }
 ],
 "metadata": {
  "kernelspec": {
   "display_name": "Python 3 (ipykernel)",
   "language": "python",
   "name": "python3"
  },
  "language_info": {
   "codemirror_mode": {
    "name": "ipython",
    "version": 3
   },
   "file_extension": ".py",
   "mimetype": "text/x-python",
   "name": "python",
   "nbconvert_exporter": "python",
   "pygments_lexer": "ipython3",
   "version": "3.11.5"
  }
 },
 "nbformat": 4,
 "nbformat_minor": 5
}
