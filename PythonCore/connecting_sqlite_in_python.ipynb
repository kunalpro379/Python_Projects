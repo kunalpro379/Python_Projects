{
 "cells": [
  {
   "cell_type": "code",
   "execution_count": 4,
   "id": "94bdfb9d",
   "metadata": {},
   "outputs": [
    {
     "name": "stdout",
     "output_type": "stream",
     "text": [
      "Note: you may need to restart the kernel to use updated packages.\n"
     ]
    },
    {
     "name": "stderr",
     "output_type": "stream",
     "text": [
      "ERROR: Could not find a version that satisfies the requirement sqlite3 (from versions: none)\n",
      "ERROR: No matching distribution found for sqlite3\n"
     ]
    }
   ],
   "source": [
    "pip install sqlite3\n"
   ]
  },
  {
   "cell_type": "code",
   "execution_count": 5,
   "id": "542a0687",
   "metadata": {},
   "outputs": [],
   "source": [
    "import sqlite3"
   ]
  },
  {
   "cell_type": "code",
   "execution_count": 6,
   "id": "938b6b49",
   "metadata": {},
   "outputs": [],
   "source": [
    "conn=sqlite3.connect('kunal.db')\n",
    "c=conn.cursor()\n"
   ]
  },
  {
   "cell_type": "code",
   "execution_count": 12,
   "id": "ada314be",
   "metadata": {},
   "outputs": [
    {
     "data": {
      "text/plain": [
       "<sqlite3.Cursor at 0x19b7d4b7240>"
      ]
     },
     "execution_count": 12,
     "metadata": {},
     "output_type": "execute_result"
    }
   ],
   "source": [
    "c.execute('''CREATE TABLE IF NOT EXISTS users\n",
    "                 (uid INTEGER PRIMARY KEY, name TEXT,email TEXT)''')"
   ]
  },
  {
   "cell_type": "code",
   "execution_count": 13,
   "id": "f58426a4",
   "metadata": {},
   "outputs": [],
   "source": [
    "def create_user(email,name):\n",
    "    c.execute(\"INSERT INTO users(name, email) VALUES (?,?)\", (name, email))\n",
    "    conn.commit()\n",
    "    print(\"USER CREATED!\")"
   ]
  },
  {
   "cell_type": "code",
   "execution_count": 14,
   "id": "ea5b8fe5",
   "metadata": {},
   "outputs": [],
   "source": [
    "def get_all_users():\n",
    "    c.execute(\"SELECT * FROM users\")\n",
    "    return c.fetchall()"
   ]
  },
  {
   "cell_type": "code",
   "execution_count": 16,
   "id": "19c2c5cc",
   "metadata": {},
   "outputs": [],
   "source": [
    "def update_user_email(user_id, new_email):\n",
    "    c.execute(\"UPDATE users SET email=? WHERE uid=?, (new_email, user_id)\")\n",
    "    conn.commit()\n",
    "    print(\"{name}s email updated!\")"
   ]
  },
  {
   "cell_type": "code",
   "execution_count": 17,
   "id": "f4902f7d",
   "metadata": {},
   "outputs": [],
   "source": [
    "def delete_user(uid):\n",
    "    c.execute(\"DELETE FROM users WHERE uid=?\", (uid))\n",
    "    conn.commit()\n",
    "    print(\"user {name} is deleted!\")"
   ]
  },
  {
   "cell_type": "code",
   "execution_count": 19,
   "id": "18bc2516",
   "metadata": {},
   "outputs": [
    {
     "name": "stdout",
     "output_type": "stream",
     "text": [
      "USER CREATED!\n",
      "USER CREATED!\n",
      "All users: [(1, 'john@example.com', 'John Doe'), (2, 'jane@example.com', 'Jane Doe'), (3, 'john@example.com', 'John Doe'), (4, 'jane@example.com', 'Jane Doe')]\n"
     ]
    }
   ],
   "source": [
    "create_user(\"John Doe\", \"john@example.com\")\n",
    "create_user(\"Jane Doe\", \"jane@example.com\")\n",
    "print(\"All users:\", get_all_users())\n"
   ]
  },
  {
   "cell_type": "code",
   "execution_count": 21,
   "id": "af14eaf2",
   "metadata": {},
   "outputs": [
    {
     "name": "stdout",
     "output_type": "stream",
     "text": [
      "User created successfully\n",
      "User created successfully\n",
      "All users: [(1, 'John Doe', 'john@example.com'), (2, 'Jane Doe', 'jane@example.com')]\n",
      "User email updated successfully\n",
      "All users after update: [(1, 'John Doe', 'john.doe@example.com'), (2, 'Jane Doe', 'jane@example.com')]\n",
      "User deleted successfully\n",
      "All users after delete: [(1, 'John Doe', 'john.doe@example.com')]\n"
     ]
    }
   ],
   "source": [
    "import sqlite3\n",
    "\n",
    "# Connect to the database\n",
    "conn = sqlite3.connect('example.db')\n",
    "c = conn.cursor()\n",
    "\n",
    "# Create table\n",
    "c.execute('''CREATE TABLE IF NOT EXISTS users \n",
    "             (uid INTEGER PRIMARY KEY, name TEXT, email TEXT)''')\n",
    "\n",
    "def create_user(name, email):\n",
    "    c.execute(\"INSERT INTO users (name, email) VALUES (?, ?)\", (name, email))\n",
    "    conn.commit()\n",
    "    print(\"User created successfully\")\n",
    "\n",
    "def get_all_users():\n",
    "    c.execute(\"SELECT * FROM users\")\n",
    "    return c.fetchall()\n",
    "\n",
    "def update_user_email(user_id, new_email):\n",
    "    c.execute(\"UPDATE users SET email = ? WHERE uid = ?\", (new_email, user_id))\n",
    "    conn.commit()\n",
    "    print(\"User email updated successfully\")\n",
    "\n",
    "def delete_user(user_id):\n",
    "    c.execute(\"DELETE FROM users WHERE uid = ?\", (user_id,))\n",
    "    conn.commit()\n",
    "    print(\"User deleted successfully\")\n",
    "\n",
    "create_user(\"John Doe\", \"john@example.com\")\n",
    "create_user(\"Jane Doe\", \"jane@example.com\")\n",
    "print(\"All users:\", get_all_users())\n",
    "update_user_email(1, \"john.doe@example.com\")\n",
    "print(\"All users after update:\", get_all_users())\n",
    "delete_user(2)\n",
    "print(\"All users after delete:\", get_all_users())\n",
    "\n",
    "conn.close()\n"
   ]
  },
  {
   "cell_type": "code",
   "execution_count": null,
   "id": "2a81dfc5",
   "metadata": {},
   "outputs": [],
   "source": []
  }
 ],
 "metadata": {
  "kernelspec": {
   "display_name": "Python 3 (ipykernel)",
   "language": "python",
   "name": "python3"
  },
  "language_info": {
   "codemirror_mode": {
    "name": "ipython",
    "version": 3
   },
   "file_extension": ".py",
   "mimetype": "text/x-python",
   "name": "python",
   "nbconvert_exporter": "python",
   "pygments_lexer": "ipython3",
   "version": "3.11.5"
  }
 },
 "nbformat": 4,
 "nbformat_minor": 5
}
