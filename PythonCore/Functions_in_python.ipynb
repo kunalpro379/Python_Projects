{
 "cells": [
  {
   "cell_type": "code",
   "execution_count": 12,
   "id": "f554ad5c",
   "metadata": {},
   "outputs": [
    {
     "name": "stdout",
     "output_type": "stream",
     "text": [
      "The number is even\n"
     ]
    }
   ],
   "source": [
    "num=24\n",
    "if num%2==0:\n",
    "    print('The number is even')\n",
    "else:\n",
    "    print('The num is odd')"
   ]
  },
  {
   "cell_type": "code",
   "execution_count": 13,
   "id": "69378078",
   "metadata": {},
   "outputs": [],
   "source": [
    "def even_odd(num):\n",
    "    if num%2==0:\n",
    "        print('The number is even')\n",
    "    else:\n",
    "        print('The num is odd')"
   ]
  },
  {
   "cell_type": "code",
   "execution_count": 14,
   "id": "40c0f363",
   "metadata": {},
   "outputs": [
    {
     "name": "stdout",
     "output_type": "stream",
     "text": [
      "The num is odd\n"
     ]
    }
   ],
   "source": [
    "even_odd(12238838383)"
   ]
  },
  {
   "cell_type": "code",
   "execution_count": 15,
   "id": "30754329",
   "metadata": {},
   "outputs": [],
   "source": [
    "def hello_duniya():\n",
    "    print(\"Hloooo duniyaaaa\")"
   ]
  },
  {
   "cell_type": "code",
   "execution_count": 16,
   "id": "156d07fb",
   "metadata": {},
   "outputs": [
    {
     "name": "stdout",
     "output_type": "stream",
     "text": [
      "Hloooo duniyaaaa\n"
     ]
    }
   ],
   "source": [
    "val=hello_duniya()"
   ]
  },
  {
   "cell_type": "code",
   "execution_count": 17,
   "id": "37fa880e",
   "metadata": {},
   "outputs": [
    {
     "name": "stdout",
     "output_type": "stream",
     "text": [
      "None\n"
     ]
    }
   ],
   "source": [
    "print(val)"
   ]
  },
  {
   "cell_type": "code",
   "execution_count": 18,
   "id": "7dab3a19",
   "metadata": {},
   "outputs": [],
   "source": [
    "def hello_duniya():\n",
    "    return \"Hloooo duniyaaaa\" "
   ]
  },
  {
   "cell_type": "code",
   "execution_count": 19,
   "id": "a898f172",
   "metadata": {},
   "outputs": [],
   "source": [
    "val=hello_duniya()\n"
   ]
  },
  {
   "cell_type": "code",
   "execution_count": 20,
   "id": "3a9d45c8",
   "metadata": {},
   "outputs": [
    {
     "data": {
      "text/plain": [
       "'Hloooo duniyaaaa'"
      ]
     },
     "execution_count": 20,
     "metadata": {},
     "output_type": "execute_result"
    }
   ],
   "source": [
    "val"
   ]
  },
  {
   "cell_type": "code",
   "execution_count": 21,
   "id": "fe497230",
   "metadata": {},
   "outputs": [
    {
     "data": {
      "text/plain": [
       "str"
      ]
     },
     "execution_count": 21,
     "metadata": {},
     "output_type": "execute_result"
    }
   ],
   "source": [
    "type(val)"
   ]
  },
  {
   "cell_type": "code",
   "execution_count": 31,
   "id": "198553a9",
   "metadata": {},
   "outputs": [],
   "source": [
    "def hellow(name,age=22):\n",
    "    print(\"My name is {} and age is {}\".format(name,age))\n",
    "#name->positional argument\n",
    "#age->keyword argument"
   ]
  },
  {
   "cell_type": "code",
   "execution_count": 32,
   "id": "705b3810",
   "metadata": {},
   "outputs": [
    {
     "name": "stdout",
     "output_type": "stream",
     "text": [
      "My name is kunal and age is 22\n"
     ]
    }
   ],
   "source": [
    "hellow(\"kunal\")"
   ]
  },
  {
   "cell_type": "code",
   "execution_count": 24,
   "id": "a031c5df",
   "metadata": {},
   "outputs": [
    {
     "ename": "TypeError",
     "evalue": "hellow() missing 1 required positional argument: 'name'",
     "output_type": "error",
     "traceback": [
      "\u001b[1;31m---------------------------------------------------------------------------\u001b[0m",
      "\u001b[1;31mTypeError\u001b[0m                                 Traceback (most recent call last)",
      "Cell \u001b[1;32mIn[24], line 1\u001b[0m\n\u001b[1;32m----> 1\u001b[0m hellow()\n",
      "\u001b[1;31mTypeError\u001b[0m: hellow() missing 1 required positional argument: 'name'"
     ]
    }
   ],
   "source": [
    "hellow()"
   ]
  },
  {
   "cell_type": "code",
   "execution_count": 27,
   "id": "cdacabc3",
   "metadata": {},
   "outputs": [],
   "source": [
    "def hello(*args,**kwargs):\n",
    "    print(args)\n",
    "    print(kwargs)"
   ]
  },
  {
   "cell_type": "code",
   "execution_count": 30,
   "id": "758cf5a0",
   "metadata": {},
   "outputs": [
    {
     "name": "stdout",
     "output_type": "stream",
     "text": [
      "('kunal', 2222)\n",
      "{'age': 21, 'exp': 100}\n"
     ]
    }
   ],
   "source": [
    "hello(\"kunal\",2222,age=21,exp=100)"
   ]
  },
  {
   "cell_type": "code",
   "execution_count": 33,
   "id": "ddf12d45",
   "metadata": {},
   "outputs": [],
   "source": [
    "list=['kunal','deepak','patil', 379]\n",
    "dict_args={'age':21,'exp':1000,'salary':'1M dollors', 'dob':'22/08/2003' }"
   ]
  },
  {
   "cell_type": "code",
   "execution_count": 34,
   "id": "7c67e3d8",
   "metadata": {},
   "outputs": [
    {
     "name": "stdout",
     "output_type": "stream",
     "text": [
      "('kunal', 'deepak', 'patil', 379)\n",
      "{'age': 21, 'exp': 1000, 'salary': '1M dollors', 'dob': '22/08/2003'}\n"
     ]
    }
   ],
   "source": [
    "hello(*list,**dict_args)"
   ]
  },
  {
   "cell_type": "code",
   "execution_count": 36,
   "id": "6b60822c",
   "metadata": {},
   "outputs": [],
   "source": [
    "list=[1,2,3,4,5,6,7,8,9,0]"
   ]
  },
  {
   "cell_type": "code",
   "execution_count": 37,
   "id": "f2f18a2b",
   "metadata": {},
   "outputs": [],
   "source": [
    "def even_odd_sum(list):\n",
    "    even_sum=0\n",
    "    odd_sum=0\n",
    "    for i in list:\n",
    "        if i%2==0:\n",
    "            even_sum=even_sum+i\n",
    "        else:\n",
    "            odd_sum=odd_sum+i\n",
    "    return even_sum, odd_sum\n",
    "        \n",
    "    "
   ]
  },
  {
   "cell_type": "code",
   "execution_count": 38,
   "id": "0cd1e156",
   "metadata": {},
   "outputs": [
    {
     "data": {
      "text/plain": [
       "(20, 25)"
      ]
     },
     "execution_count": 38,
     "metadata": {},
     "output_type": "execute_result"
    }
   ],
   "source": [
    "even_odd_sum(list)"
   ]
  },
  {
   "cell_type": "code",
   "execution_count": null,
   "id": "73832569",
   "metadata": {},
   "outputs": [],
   "source": []
  }
 ],
 "metadata": {
  "kernelspec": {
   "display_name": "Python 3 (ipykernel)",
   "language": "python",
   "name": "python3"
  },
  "language_info": {
   "codemirror_mode": {
    "name": "ipython",
    "version": 3
   },
   "file_extension": ".py",
   "mimetype": "text/x-python",
   "name": "python",
   "nbconvert_exporter": "python",
   "pygments_lexer": "ipython3",
   "version": "3.11.5"
  }
 },
 "nbformat": 4,
 "nbformat_minor": 5
}
