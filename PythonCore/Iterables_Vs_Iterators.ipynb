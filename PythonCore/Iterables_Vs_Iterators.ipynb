{
 "cells": [
  {
   "cell_type": "code",
   "execution_count": 16,
   "id": "1c4d959e",
   "metadata": {},
   "outputs": [
    {
     "data": {
      "text/plain": [
       "<list_iterator at 0x17fe367a860>"
      ]
     },
     "execution_count": 16,
     "metadata": {},
     "output_type": "execute_result"
    }
   ],
   "source": [
    "lst=[1,2,3,4,56,7]\n",
    "iter(lst)#convert list into iterators"
   ]
  },
  {
   "cell_type": "code",
   "execution_count": 17,
   "id": "1b244ccc",
   "metadata": {},
   "outputs": [],
   "source": [
    "list1=iter(lst)"
   ]
  },
  {
   "cell_type": "code",
   "execution_count": 18,
   "id": "0a066ba2",
   "metadata": {},
   "outputs": [],
   "source": [
    "#how to retrive\n",
    "#iterator->as soon as u initialize the list all the values saved in thememory in the diff diff locations"
   ]
  },
  {
   "cell_type": "code",
   "execution_count": 19,
   "id": "17aa2f2e",
   "metadata": {},
   "outputs": [
    {
     "data": {
      "text/plain": [
       "1"
      ]
     },
     "execution_count": 19,
     "metadata": {},
     "output_type": "execute_result"
    }
   ],
   "source": [
    "next(list1)#at the time onl one element iniitialized"
   ]
  },
  {
   "cell_type": "code",
   "execution_count": 20,
   "id": "3f70e4f1",
   "metadata": {},
   "outputs": [
    {
     "data": {
      "text/plain": [
       "2"
      ]
     },
     "execution_count": 20,
     "metadata": {},
     "output_type": "execute_result"
    }
   ],
   "source": [
    "next(list1)#not stored in the memotryf"
   ]
  },
  {
   "cell_type": "code",
   "execution_count": 21,
   "id": "cabdc595",
   "metadata": {},
   "outputs": [
    {
     "data": {
      "text/plain": [
       "3"
      ]
     },
     "execution_count": 21,
     "metadata": {},
     "output_type": "execute_result"
    }
   ],
   "source": [
    "next(list1)"
   ]
  },
  {
   "cell_type": "code",
   "execution_count": 22,
   "id": "7969cbb8",
   "metadata": {},
   "outputs": [
    {
     "name": "stdout",
     "output_type": "stream",
     "text": [
      "4\n",
      "56\n",
      "7\n"
     ]
    }
   ],
   "source": [
    "for i in list1:\n",
    "    print(i)"
   ]
  },
  {
   "cell_type": "code",
   "execution_count": 23,
   "id": "1ccff63f",
   "metadata": {},
   "outputs": [
    {
     "ename": "NameError",
     "evalue": "name 'llist1' is not defined",
     "output_type": "error",
     "traceback": [
      "\u001b[1;31m---------------------------------------------------------------------------\u001b[0m",
      "\u001b[1;31mNameError\u001b[0m                                 Traceback (most recent call last)",
      "Cell \u001b[1;32mIn[23], line 1\u001b[0m\n\u001b[1;32m----> 1\u001b[0m \u001b[38;5;28mnext\u001b[39m(llist1)\n",
      "\u001b[1;31mNameError\u001b[0m: name 'llist1' is not defined"
     ]
    }
   ],
   "source": [
    "next(llist1)"
   ]
  },
  {
   "cell_type": "code",
   "execution_count": null,
   "id": "1f9cc261",
   "metadata": {},
   "outputs": [],
   "source": []
  }
 ],
 "metadata": {
  "kernelspec": {
   "display_name": "Python 3 (ipykernel)",
   "language": "python",
   "name": "python3"
  },
  "language_info": {
   "codemirror_mode": {
    "name": "ipython",
    "version": 3
   },
   "file_extension": ".py",
   "mimetype": "text/x-python",
   "name": "python",
   "nbconvert_exporter": "python",
   "pygments_lexer": "ipython3",
   "version": "3.11.5"
  }
 },
 "nbformat": 4,
 "nbformat_minor": 5
}
