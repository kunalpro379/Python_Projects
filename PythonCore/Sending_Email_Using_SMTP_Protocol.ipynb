{
 "cells": [
  {
   "cell_type": "code",
   "execution_count": 29,
   "id": "3050c6b8",
   "metadata": {},
   "outputs": [
    {
     "data": {
      "text/plain": [
       "(221,\n",
       " b'2.0.0 closing connection gh12-20020a056a00638c00b006ecc858b67fsm1613359pfb.175 - gsmtp')"
      ]
     },
     "execution_count": 29,
     "metadata": {},
     "output_type": "execute_result"
    }
   ],
   "source": [
    "import smtplib\n",
    "from email.mime.text import MIMEText\n",
    "from email.mime.multipart import MIMEMultipart\n",
    "\n",
    "# Email configuration\n",
    "sender_email = \"kunaldp379@gmail.com\"\n",
    "receiver_email1 = \"deepakbp78@gmail.com\"\n",
    "receiver_email2 = \"2022.kunal.patil@ves.ac.in\"\n",
    "subject = \"Email from SMTP protocol\"\n",
    "body = \"This is just a test email\"\n",
    "\n",
    "# Create a MIMEText object to represent the email body\n",
    "message = MIMEMultipart()\n",
    "message['From'] = sender_email\n",
    "message['To'] = \", \".join([receiver_email1, receiver_email2])\n",
    "message['Subject'] = subject\n",
    "message.attach(MIMEText(body, 'plain'))\n",
    "\n",
    "# SMTP server configuration\n",
    "smtp_server = 'smtp.gmail.com'\n",
    "smtp_port = 587\n",
    "smtp_username = 'kunaldp379@gmail.com'\n",
    "smtp_password = 'lxuh pues awhf zeol'\n",
    "\n",
    "# Connect to the SMTP server\n",
    "server = smtplib.SMTP(smtp_server, smtp_port)\n",
    "server.starttls()\n",
    "server.login(smtp_username, smtp_password)\n",
    "\n",
    "# Send the email\n",
    "server.sendmail(sender_email, [receiver_email1, receiver_email2], message.as_string())\n",
    "\n",
    "# Close the connection\n",
    "server.quit()\n"
   ]
  },
  {
   "cell_type": "code",
   "execution_count": 20,
   "id": "58d87a01",
   "metadata": {},
   "outputs": [],
   "source": []
  },
  {
   "cell_type": "code",
   "execution_count": 21,
   "id": "86bbc1d4",
   "metadata": {},
   "outputs": [],
   "source": []
  },
  {
   "cell_type": "code",
   "execution_count": 22,
   "id": "f79a740a",
   "metadata": {},
   "outputs": [],
   "source": [
    "\n"
   ]
  },
  {
   "cell_type": "code",
   "execution_count": 26,
   "id": "82b3e3fd",
   "metadata": {},
   "outputs": [
    {
     "data": {
      "text/plain": [
       "(235, b'2.7.0 Accepted')"
      ]
     },
     "execution_count": 26,
     "metadata": {},
     "output_type": "execute_result"
    }
   ],
   "source": []
  },
  {
   "cell_type": "code",
   "execution_count": 27,
   "id": "0d1ae433",
   "metadata": {},
   "outputs": [
    {
     "ename": "SMTPDataError",
     "evalue": "(550, b'5.7.1 This message is not RFC 5322 compliant. There are multiple To headers.\\n5.7.1 To reduce the amount of spam sent to Gmail, this message has been\\n5.7.1 blocked. For more information, go to\\n5.7.1  https://support.google.com/mail/?p=RfcMessageNonCompliant and review\\n5.7.1 RFC 5322 specifications. n21-20020a056a000d5500b006ed066ebed4sm1635859pfv.93 - gsmtp')",
     "output_type": "error",
     "traceback": [
      "\u001b[1;31m---------------------------------------------------------------------------\u001b[0m",
      "\u001b[1;31mSMTPDataError\u001b[0m                             Traceback (most recent call last)",
      "Cell \u001b[1;32mIn[27], line 1\u001b[0m\n\u001b[1;32m----> 1\u001b[0m server\u001b[38;5;241m.\u001b[39msendmail(sender_email,receiver_email1,message\u001b[38;5;241m.\u001b[39mas_string())\n",
      "File \u001b[1;32m~\\anaconda3\\Lib\\smtplib.py:908\u001b[0m, in \u001b[0;36mSMTP.sendmail\u001b[1;34m(self, from_addr, to_addrs, msg, mail_options, rcpt_options)\u001b[0m\n\u001b[0;32m    906\u001b[0m     \u001b[38;5;28;01melse\u001b[39;00m:\n\u001b[0;32m    907\u001b[0m         \u001b[38;5;28mself\u001b[39m\u001b[38;5;241m.\u001b[39m_rset()\n\u001b[1;32m--> 908\u001b[0m     \u001b[38;5;28;01mraise\u001b[39;00m SMTPDataError(code, resp)\n\u001b[0;32m    909\u001b[0m \u001b[38;5;66;03m#if we got here then somebody got our mail\u001b[39;00m\n\u001b[0;32m    910\u001b[0m \u001b[38;5;28;01mreturn\u001b[39;00m senderrs\n",
      "\u001b[1;31mSMTPDataError\u001b[0m: (550, b'5.7.1 This message is not RFC 5322 compliant. There are multiple To headers.\\n5.7.1 To reduce the amount of spam sent to Gmail, this message has been\\n5.7.1 blocked. For more information, go to\\n5.7.1  https://support.google.com/mail/?p=RfcMessageNonCompliant and review\\n5.7.1 RFC 5322 specifications. n21-20020a056a000d5500b006ed066ebed4sm1635859pfv.93 - gsmtp')"
     ]
    }
   ],
   "source": []
  },
  {
   "cell_type": "code",
   "execution_count": null,
   "id": "2d131bbd",
   "metadata": {},
   "outputs": [],
   "source": []
  }
 ],
 "metadata": {
  "kernelspec": {
   "display_name": "Python 3 (ipykernel)",
   "language": "python",
   "name": "python3"
  },
  "language_info": {
   "codemirror_mode": {
    "name": "ipython",
    "version": 3
   },
   "file_extension": ".py",
   "mimetype": "text/x-python",
   "name": "python",
   "nbconvert_exporter": "python",
   "pygments_lexer": "ipython3",
   "version": "3.11.5"
  }
 },
 "nbformat": 4,
 "nbformat_minor": 5
}
