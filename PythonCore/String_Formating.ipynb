{
 "cells": [
  {
   "cell_type": "code",
   "execution_count": 8,
   "id": "2f024c97",
   "metadata": {},
   "outputs": [],
   "source": [
    "str=\"Kunal\"\n",
    "def greeting(name):\n",
    "    return \"Hello {}. Welcome to the community\".format(name)"
   ]
  },
  {
   "cell_type": "code",
   "execution_count": 9,
   "id": "9b245c77",
   "metadata": {},
   "outputs": [
    {
     "data": {
      "text/plain": [
       "'Hello Kunal. Welcome to the community'"
      ]
     },
     "execution_count": 9,
     "metadata": {},
     "output_type": "execute_result"
    }
   ],
   "source": [
    "greeting('kunal')\n",
    "greeting(str)"
   ]
  },
  {
   "cell_type": "code",
   "execution_count": 10,
   "id": "9426fd61",
   "metadata": {},
   "outputs": [],
   "source": [
    "def welcome_email(name,age):\n",
    "    return \"Welcome {}, your age is {}\".format(age,name)#order matter"
   ]
  },
  {
   "cell_type": "code",
   "execution_count": 11,
   "id": "f9a44444",
   "metadata": {},
   "outputs": [
    {
     "data": {
      "text/plain": [
       "'Welcome 20, your age is Kunal'"
      ]
     },
     "execution_count": 11,
     "metadata": {},
     "output_type": "execute_result"
    }
   ],
   "source": [
    "welcome_email(\"Kunal\",20)"
   ]
  },
  {
   "cell_type": "code",
   "execution_count": 12,
   "id": "93b58a20",
   "metadata": {},
   "outputs": [],
   "source": [
    "def welcome_email(name,age):\n",
    "    return \"Welcome {name}, your age is {age}\".format(age=age,name=name)#order dont matter "
   ]
  },
  {
   "cell_type": "code",
   "execution_count": 14,
   "id": "969aaa5e",
   "metadata": {},
   "outputs": [
    {
     "data": {
      "text/plain": [
       "'Welcome Kunal, your age is 20'"
      ]
     },
     "execution_count": 14,
     "metadata": {},
     "output_type": "execute_result"
    }
   ],
   "source": [
    "welcome_email(\"Kunal\",20)"
   ]
  },
  {
   "cell_type": "code",
   "execution_count": null,
   "id": "92294228",
   "metadata": {},
   "outputs": [],
   "source": []
  }
 ],
 "metadata": {
  "kernelspec": {
   "display_name": "Python 3 (ipykernel)",
   "language": "python",
   "name": "python3"
  },
  "language_info": {
   "codemirror_mode": {
    "name": "ipython",
    "version": 3
   },
   "file_extension": ".py",
   "mimetype": "text/x-python",
   "name": "python",
   "nbconvert_exporter": "python",
   "pygments_lexer": "ipython3",
   "version": "3.11.5"
  }
 },
 "nbformat": 4,
 "nbformat_minor": 5
}
