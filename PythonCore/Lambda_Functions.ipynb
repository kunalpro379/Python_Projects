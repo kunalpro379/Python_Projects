{
 "cells": [
  {
   "cell_type": "code",
   "execution_count": 1,
   "id": "07d62482",
   "metadata": {},
   "outputs": [],
   "source": [
    "# Lambda Functions\n"
   ]
  },
  {
   "cell_type": "code",
   "execution_count": 2,
   "id": "8c80bc98",
   "metadata": {},
   "outputs": [],
   "source": [
    "#anonymous function\n",
    "#a functions with no name"
   ]
  },
  {
   "cell_type": "code",
   "execution_count": 7,
   "id": "242dd69f",
   "metadata": {},
   "outputs": [],
   "source": [
    "def addition1(a,b):\n",
    "    return a+b"
   ]
  },
  {
   "cell_type": "code",
   "execution_count": 8,
   "id": "1021e558",
   "metadata": {},
   "outputs": [
    {
     "data": {
      "text/plain": [
       "26755"
      ]
     },
     "execution_count": 8,
     "metadata": {},
     "output_type": "execute_result"
    }
   ],
   "source": [
    "addition1(23323,3432)"
   ]
  },
  {
   "cell_type": "code",
   "execution_count": 11,
   "id": "2dba7d80",
   "metadata": {},
   "outputs": [],
   "source": [
    "addition2=lambda a,b:a+b"
   ]
  },
  {
   "cell_type": "code",
   "execution_count": 12,
   "id": "0da35bd6",
   "metadata": {},
   "outputs": [
    {
     "data": {
      "text/plain": [
       "3"
      ]
     },
     "execution_count": 12,
     "metadata": {},
     "output_type": "execute_result"
    }
   ],
   "source": [
    "addition2(1,2)"
   ]
  },
  {
   "cell_type": "code",
   "execution_count": 16,
   "id": "7837f75a",
   "metadata": {},
   "outputs": [],
   "source": [
    "def even1(num):\n",
    "    if num%2==0:\n",
    "        return True"
   ]
  },
  {
   "cell_type": "code",
   "execution_count": 17,
   "id": "156119fb",
   "metadata": {},
   "outputs": [],
   "source": [
    "even2=lambda a:a%2==0\n"
   ]
  },
  {
   "cell_type": "code",
   "execution_count": 18,
   "id": "4a3f39e4",
   "metadata": {},
   "outputs": [
    {
     "data": {
      "text/plain": [
       "True"
      ]
     },
     "execution_count": 18,
     "metadata": {},
     "output_type": "execute_result"
    }
   ],
   "source": [
    "even1(122)"
   ]
  },
  {
   "cell_type": "code",
   "execution_count": 19,
   "id": "77736214",
   "metadata": {},
   "outputs": [
    {
     "data": {
      "text/plain": [
       "False"
      ]
     },
     "execution_count": 19,
     "metadata": {},
     "output_type": "execute_result"
    }
   ],
   "source": [
    "even2(1223)"
   ]
  },
  {
   "cell_type": "code",
   "execution_count": 20,
   "id": "204ba27e",
   "metadata": {},
   "outputs": [],
   "source": [
    "threesum=lambda x,y,z:x+y+z"
   ]
  },
  {
   "cell_type": "code",
   "execution_count": 21,
   "id": "439c8015",
   "metadata": {},
   "outputs": [
    {
     "data": {
      "text/plain": [
       "6"
      ]
     },
     "execution_count": 21,
     "metadata": {},
     "output_type": "execute_result"
    }
   ],
   "source": [
    "threesum(1,2,3)"
   ]
  },
  {
   "cell_type": "code",
   "execution_count": null,
   "id": "38870276",
   "metadata": {},
   "outputs": [],
   "source": []
  }
 ],
 "metadata": {
  "kernelspec": {
   "display_name": "Python 3 (ipykernel)",
   "language": "python",
   "name": "python3"
  },
  "language_info": {
   "codemirror_mode": {
    "name": "ipython",
    "version": 3
   },
   "file_extension": ".py",
   "mimetype": "text/x-python",
   "name": "python",
   "nbconvert_exporter": "python",
   "pygments_lexer": "ipython3",
   "version": "3.11.5"
  }
 },
 "nbformat": 4,
 "nbformat_minor": 5
}
