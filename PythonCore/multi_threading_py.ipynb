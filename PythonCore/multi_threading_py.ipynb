{
 "cells": [
  {
   "cell_type": "code",
   "execution_count": 1,
   "id": "ba272070",
   "metadata": {},
   "outputs": [],
   "source": [
    "import threading \n",
    "import time \n"
   ]
  },
  {
   "cell_type": "code",
   "execution_count": 7,
   "id": "b0207e55",
   "metadata": {},
   "outputs": [
    {
     "name": "stdout",
     "output_type": "stream",
     "text": [
      "Thread-13 (Print_nos)Thread-14 (Print_letters) a\n",
      " 0\n",
      "Thread-14 (Print_letters) b\n",
      "Thread-13 (Print_nos) 1\n",
      "Thread-14 (Print_letters) c\n",
      "Thread-14 (Print_letters) d\n",
      "Thread-13 (Print_nos) 2\n",
      "Thread-14 (Print_letters) e\n",
      "Thread-14 (Print_letters) f\n",
      "Thread-13 (Print_nos) 3\n",
      "Thread-14 (Print_letters) g\n",
      "Thread-13 (Print_nos) 4\n",
      "Both threads finished\n"
     ]
    }
   ],
   "source": [
    "def Print_nos():\n",
    "    for i in range(5):\n",
    "        print(threading.current_thread().name, i)\n",
    "        time.sleep(2)\n",
    "def Print_letters():\n",
    "    for letter in ['a','b','c','d','e','f','g']:\n",
    "        print(threading.current_thread().name,letter)\n",
    "        time.sleep(1)\n",
    "thread1=threading.Thread(target=Print_nos)\n",
    "thread2=threading.Thread(target=Print_letters)\n",
    "\n",
    "thread1.start()\n",
    "thread2.start()\n",
    "\n",
    "thread1.join()\n",
    "thread2.join()\n",
    "print(\"Both threads finished\")"
   ]
  },
  {
   "cell_type": "code",
   "execution_count": null,
   "id": "97ecb2ee",
   "metadata": {},
   "outputs": [],
   "source": []
  },
  {
   "cell_type": "code",
   "execution_count": null,
   "id": "cf94982e",
   "metadata": {},
   "outputs": [],
   "source": []
  },
  {
   "cell_type": "code",
   "execution_count": null,
   "id": "752daffc",
   "metadata": {},
   "outputs": [],
   "source": []
  }
 ],
 "metadata": {
  "kernelspec": {
   "display_name": "Python 3 (ipykernel)",
   "language": "python",
   "name": "python3"
  },
  "language_info": {
   "codemirror_mode": {
    "name": "ipython",
    "version": 3
   },
   "file_extension": ".py",
   "mimetype": "text/x-python",
   "name": "python",
   "nbconvert_exporter": "python",
   "pygments_lexer": "ipython3",
   "version": "3.11.5"
  }
 },
 "nbformat": 4,
 "nbformat_minor": 5
}
