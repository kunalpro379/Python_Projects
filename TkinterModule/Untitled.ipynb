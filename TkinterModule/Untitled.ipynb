{
 "cells": [
  {
   "cell_type": "code",
   "execution_count": 1,
   "id": "bb343ebb",
   "metadata": {},
   "outputs": [],
   "source": [
    "import tkinter as tk\n",
    "from tkinter import messagebox\n"
   ]
  },
  {
   "cell_type": "code",
   "execution_count": 4,
   "id": "004a7971",
   "metadata": {},
   "outputs": [],
   "source": [
    "def ShowDialog():\n",
    "    messagebox.showinfo(\"U are logged out from screen\", \"Please try again\");"
   ]
  },
  {
   "cell_type": "code",
   "execution_count": 6,
   "id": "277273ae",
   "metadata": {},
   "outputs": [],
   "source": [
    "def submit():\n",
    "    name = name_entry.get()\n",
    "    age = age_entry.get()\n",
    "    gender = gender_var.get()"
   ]
  },
  {
   "cell_type": "code",
   "execution_count": 8,
   "id": "6feb1a74",
   "metadata": {},
   "outputs": [],
   "source": [
    "import tkinter as tk\n",
    "from tkinter import messagebox\n",
    "from tkinter import ttk\n",
    "\n",
    "def show_dialog():\n",
    "    messagebox.showinfo(\"Custom Dialog\", \"This is a custom dialog box!\")\n",
    "\n",
    "def submit():\n",
    "    name = name_entry.get()\n",
    "    age = age_entry.get()\n",
    "    gender = gender_var.get()\n",
    "    hobbies = \", \".join([hobby_text for hobby, hobby_text in zip(hobbies_vars, hobbies_texts) if hobby.get()])\n",
    "    info_text = f\"Name: {name}\\nAge: {age}\\nGender: {gender}\\nHobbies: {hobbies}\"\n",
    "    info_label.config(text=info_text)\n",
    "\n",
    "root = tk.Tk()\n",
    "root.title(\"Interactive and Beautiful GUI Example\")\n",
    "\n",
    "# Create style\n",
    "style = ttk.Style()\n",
    "style.theme_use('clam')\n",
    "style.configure('TButton', foreground='blue', background='lightgray', font=('Arial', 10))\n",
    "style.configure('TLabel', foreground='darkblue', font=('Arial', 12))\n",
    "style.configure('TEntry', foreground='black', font=('Arial', 12))\n",
    "style.configure('TRadiobutton', foreground='darkgreen', font=('Arial', 12))\n",
    "style.configure('TCheckbutton', foreground='darkred', font=('Arial', 12))\n",
    "\n",
    "ttk.Label(root, text=\"Name:\").grid(row=0, column=0, padx=10, pady=5, sticky='e')\n",
    "ttk.Label(root, text=\"Age:\").grid(row=1, column=0, padx=10, pady=5, sticky='e')\n",
    "ttk.Label(root, text=\"Gender:\").grid(row=2, column=0, padx=10, pady=5, sticky='e')\n",
    "ttk.Label(root, text=\"Hobbies:\").grid(row=3, column=0, padx=10, pady=5, sticky='e')\n",
    "\n",
    "name_entry = ttk.Entry(root)\n",
    "name_entry.grid(row=0, column=1, padx=10, pady=5)\n",
    "age_entry = ttk.Entry(root)\n",
    "age_entry.grid(row=1, column=1, padx=10, pady=5)\n",
    "\n",
    "gender_var = tk.StringVar()\n",
    "gender_frame = ttk.Frame(root)\n",
    "gender_frame.grid(row=2, column=1, padx=10, pady=5)\n",
    "male_radio = ttk.Radiobutton(gender_frame, text=\"Male\", variable=gender_var, value=\"Male\")\n",
    "male_radio.grid(row=0, column=0, padx=5, pady=2)\n",
    "female_radio = ttk.Radiobutton(gender_frame, text=\"Female\", variable=gender_var, value=\"Female\")\n",
    "female_radio.grid(row=0, column=1, padx=5, pady=2)\n",
    "\n",
    "hobbies_vars = [tk.BooleanVar() for _ in range(3)]\n",
    "hobbies_texts = [\"Reading\", \"Gaming\", \"Traveling\"]\n",
    "hobbies_frame = ttk.Frame(root)\n",
    "hobbies_frame.grid(row=3, column=1, padx=10, pady=5)\n",
    "for i, hobby_text in enumerate(hobbies_texts):\n",
    "    ttk.Checkbutton(hobbies_frame, text=hobby_text, variable=hobbies_vars[i]).grid(row=0, column=i, padx=5, pady=2)\n",
    "\n",
    "submit_button = ttk.Button(root, text=\"Submit\", command=submit)\n",
    "submit_button.grid(row=4, column=0, columnspan=2, padx=10, pady=10)\n",
    "\n",
    "info_label = ttk.Label(root, text=\"\")\n",
    "info_label.grid(row=5, column=0, columnspan=2, padx=10, pady=5)\n",
    "\n",
    "dialog_button = ttk.Button(root, text=\"Show Dialog\", command=show_dialog)\n",
    "dialog_button.grid(row=6, column=0, columnspan=2, padx=10, pady=5)\n",
    "\n",
    "root.mainloop()\n"
   ]
  },
  {
   "cell_type": "code",
   "execution_count": null,
   "id": "90e3ff61",
   "metadata": {},
   "outputs": [],
   "source": []
  }
 ],
 "metadata": {
  "kernelspec": {
   "display_name": "Python 3 (ipykernel)",
   "language": "python",
   "name": "python3"
  },
  "language_info": {
   "codemirror_mode": {
    "name": "ipython",
    "version": 3
   },
   "file_extension": ".py",
   "mimetype": "text/x-python",
   "name": "python",
   "nbconvert_exporter": "python",
   "pygments_lexer": "ipython3",
   "version": "3.11.5"
  }
 },
 "nbformat": 4,
 "nbformat_minor": 5
}
