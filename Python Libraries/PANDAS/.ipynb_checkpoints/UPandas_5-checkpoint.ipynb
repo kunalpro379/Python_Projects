{
 "cells": [
  {
   "cell_type": "code",
   "execution_count": 1,
   "id": "b311deb0",
   "metadata": {},
   "outputs": [],
   "source": [
    "import pandas as pd\n"
   ]
  },
  {
   "cell_type": "code",
   "execution_count": null,
   "id": "6b1633d9",
   "metadata": {},
   "outputs": [],
   "source": [
    "{\n",
    "    \"Emp_Name\": \"kunal\",\n",
    "    \"email\": \"kunaldp379@gmail.com\",\n",
    "    \"experience\": {\n",
    "        \"Amazon\": {\n",
    "            \"years\": 2,\n",
    "            \"position\": \"SDE1\"\n",
    "        },\n",
    "        \"Microsoft\": {\n",
    "            \"years\": 5,\n",
    "            \"position\": \"SDE2\"\n",
    "        }\n",
    "    },\n",
    "    \"contact_no\": \"9892885090\"\n",
    "}\n"
   ]
  }
 ],
 "metadata": {
  "kernelspec": {
   "display_name": "Python 3 (ipykernel)",
   "language": "python",
   "name": "python3"
  },
  "language_info": {
   "codemirror_mode": {
    "name": "ipython",
    "version": 3
   },
   "file_extension": ".py",
   "mimetype": "text/x-python",
   "name": "python",
   "nbconvert_exporter": "python",
   "pygments_lexer": "ipython3",
   "version": "3.11.5"
  }
 },
 "nbformat": 4,
 "nbformat_minor": 5
}
